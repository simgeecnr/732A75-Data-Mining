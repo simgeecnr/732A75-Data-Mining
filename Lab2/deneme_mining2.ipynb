{
 "cells": [
  {
   "cell_type": "code",
   "execution_count": 3,
   "id": "d6295ae0",
   "metadata": {},
   "outputs": [
    {
     "data": {
      "text/html": [
       "<div>\n",
       "<style scoped>\n",
       "    .dataframe tbody tr th:only-of-type {\n",
       "        vertical-align: middle;\n",
       "    }\n",
       "\n",
       "    .dataframe tbody tr th {\n",
       "        vertical-align: top;\n",
       "    }\n",
       "\n",
       "    .dataframe thead th {\n",
       "        text-align: right;\n",
       "    }\n",
       "</style>\n",
       "<table border=\"1\" class=\"dataframe\">\n",
       "  <thead>\n",
       "    <tr style=\"text-align: right;\">\n",
       "      <th></th>\n",
       "      <th>sepallength</th>\n",
       "      <th>sepalwidth</th>\n",
       "      <th>petallength</th>\n",
       "      <th>petalwidth</th>\n",
       "      <th>class</th>\n",
       "    </tr>\n",
       "  </thead>\n",
       "  <tbody>\n",
       "    <tr>\n",
       "      <th>0</th>\n",
       "      <td>5.1</td>\n",
       "      <td>3.5</td>\n",
       "      <td>1.4</td>\n",
       "      <td>0.2</td>\n",
       "      <td>b'Iris-setosa'</td>\n",
       "    </tr>\n",
       "    <tr>\n",
       "      <th>1</th>\n",
       "      <td>4.9</td>\n",
       "      <td>3.0</td>\n",
       "      <td>1.4</td>\n",
       "      <td>0.2</td>\n",
       "      <td>b'Iris-setosa'</td>\n",
       "    </tr>\n",
       "    <tr>\n",
       "      <th>2</th>\n",
       "      <td>4.7</td>\n",
       "      <td>3.2</td>\n",
       "      <td>1.3</td>\n",
       "      <td>0.2</td>\n",
       "      <td>b'Iris-setosa'</td>\n",
       "    </tr>\n",
       "    <tr>\n",
       "      <th>3</th>\n",
       "      <td>4.6</td>\n",
       "      <td>3.1</td>\n",
       "      <td>1.5</td>\n",
       "      <td>0.2</td>\n",
       "      <td>b'Iris-setosa'</td>\n",
       "    </tr>\n",
       "    <tr>\n",
       "      <th>4</th>\n",
       "      <td>5.0</td>\n",
       "      <td>3.6</td>\n",
       "      <td>1.4</td>\n",
       "      <td>0.2</td>\n",
       "      <td>b'Iris-setosa'</td>\n",
       "    </tr>\n",
       "    <tr>\n",
       "      <th>...</th>\n",
       "      <td>...</td>\n",
       "      <td>...</td>\n",
       "      <td>...</td>\n",
       "      <td>...</td>\n",
       "      <td>...</td>\n",
       "    </tr>\n",
       "    <tr>\n",
       "      <th>145</th>\n",
       "      <td>6.7</td>\n",
       "      <td>3.0</td>\n",
       "      <td>5.2</td>\n",
       "      <td>2.3</td>\n",
       "      <td>b'Iris-virginica'</td>\n",
       "    </tr>\n",
       "    <tr>\n",
       "      <th>146</th>\n",
       "      <td>6.3</td>\n",
       "      <td>2.5</td>\n",
       "      <td>5.0</td>\n",
       "      <td>1.9</td>\n",
       "      <td>b'Iris-virginica'</td>\n",
       "    </tr>\n",
       "    <tr>\n",
       "      <th>147</th>\n",
       "      <td>6.5</td>\n",
       "      <td>3.0</td>\n",
       "      <td>5.2</td>\n",
       "      <td>2.0</td>\n",
       "      <td>b'Iris-virginica'</td>\n",
       "    </tr>\n",
       "    <tr>\n",
       "      <th>148</th>\n",
       "      <td>6.2</td>\n",
       "      <td>3.4</td>\n",
       "      <td>5.4</td>\n",
       "      <td>2.3</td>\n",
       "      <td>b'Iris-virginica'</td>\n",
       "    </tr>\n",
       "    <tr>\n",
       "      <th>149</th>\n",
       "      <td>5.9</td>\n",
       "      <td>3.0</td>\n",
       "      <td>5.1</td>\n",
       "      <td>1.8</td>\n",
       "      <td>b'Iris-virginica'</td>\n",
       "    </tr>\n",
       "  </tbody>\n",
       "</table>\n",
       "<p>150 rows × 5 columns</p>\n",
       "</div>"
      ],
      "text/plain": [
       "     sepallength  sepalwidth  petallength  petalwidth              class\n",
       "0            5.1         3.5          1.4         0.2     b'Iris-setosa'\n",
       "1            4.9         3.0          1.4         0.2     b'Iris-setosa'\n",
       "2            4.7         3.2          1.3         0.2     b'Iris-setosa'\n",
       "3            4.6         3.1          1.5         0.2     b'Iris-setosa'\n",
       "4            5.0         3.6          1.4         0.2     b'Iris-setosa'\n",
       "..           ...         ...          ...         ...                ...\n",
       "145          6.7         3.0          5.2         2.3  b'Iris-virginica'\n",
       "146          6.3         2.5          5.0         1.9  b'Iris-virginica'\n",
       "147          6.5         3.0          5.2         2.0  b'Iris-virginica'\n",
       "148          6.2         3.4          5.4         2.3  b'Iris-virginica'\n",
       "149          5.9         3.0          5.1         1.8  b'Iris-virginica'\n",
       "\n",
       "[150 rows x 5 columns]"
      ]
     },
     "execution_count": 3,
     "metadata": {},
     "output_type": "execute_result"
    }
   ],
   "source": [
    "from scipy.io import arff\n",
    "import pandas as pd\n",
    "import matplotlib.pyplot as plt\n",
    "\n",
    "# Load ARFF file\n",
    "data, meta = arff.loadarff('iris.arff')\n",
    "\n",
    "# Convert data to pandas DataFrame\n",
    "df = pd.DataFrame(data)\n",
    "df"
   ]
  },
  {
   "cell_type": "code",
   "execution_count": 13,
   "id": "e55c1718",
   "metadata": {},
   "outputs": [
    {
     "data": {
      "image/png": "[encoded data removed]",
      "text/plain": [
       "<Figure size 1080x360 with 2 Axes>"
      ]
     },
     "metadata": {
      "needs_background": "light"
     },
     "output_type": "display_data"
    }
   ],
   "source": [
    "# Extract the column for which you want to create a histogram\n",
    "\n",
    "plt.figure(figsize=(15, 5))\n",
    "# Plot histogram\n",
    "plt.subplot(1, 2, 1) # row 1, col 2 index 1\n",
    "plt.hist(df['petallength'], bins=5, color='orange', edgecolor='black')\n",
    "plt.xlabel('petallength')\n",
    "plt.ylabel('Frequency')\n",
    "plt.title('petallength histogram with 5 bins')\n",
    "\n",
    "plt.subplot(1, 2, 2) # row 1, col 2 index 1\n",
    "plt.hist(df['petalwidth'], bins=5, color='green', edgecolor='black')\n",
    "plt.xlabel('petalwidth')\n",
    "plt.ylabel('Frequency')\n",
    "plt.title('petalwidth histogram with 5 bins')\n",
    "\n",
    "plt.show()"
   ]
  },
  {
   "cell_type": "code",
   "execution_count": 14,
   "id": "e8bdcb07",
   "metadata": {},
   "outputs": [
    {
     "data": {
      "image/png": "[encoded data removed]",
      "text/plain": [
       "<Figure size 1080x360 with 2 Axes>"
      ]
     },
     "metadata": {
      "needs_background": "light"
     },
     "output_type": "display_data"
    }
   ],
   "source": [
    "# Extract the column for which you want to create a histogram\n",
    "\n",
    "plt.figure(figsize=(15, 5))\n",
    "# Plot histogram\n",
    "plt.subplot(1, 2, 1) # row 1, col 2 index 1\n",
    "plt.hist(df['sepallength'], bins=5, color='blue', edgecolor='black')\n",
    "plt.xlabel('sepallength')\n",
    "plt.ylabel('Frequency')\n",
    "plt.title('sepallength histogram with 5 bins')\n",
    "\n",
    "plt.subplot(1, 2, 2) # row 1, col 2 index 1\n",
    "plt.hist(df['sepalwidth'], bins=5, color='red', edgecolor='black')\n",
    "plt.xlabel('sepalwidth')\n",
    "plt.ylabel('Frequency')\n",
    "plt.title('sepalwidth histogram with 5 bins')\n",
    "\n",
    "plt.show()"
   ]
  },
  {
   "cell_type": "code",
   "execution_count": null,
   "id": "aad69205",
   "metadata": {},
   "outputs": [],
   "source": []
  }
 ],
 "metadata": {
  "kernelspec": {
   "display_name": "Python 3 (ipykernel)",
   "language": "python",
   "name": "python3"
  },
  "language_info": {
   "codemirror_mode": {
    "name": "ipython",
    "version": 3
   },
   "file_extension": ".py",
   "mimetype": "text/x-python",
   "name": "python",
   "nbconvert_exporter": "python",
   "pygments_lexer": "ipython3",
   "version": "3.9.12"
  }
 },
 "nbformat": 4,
 "nbformat_minor": 5
}
